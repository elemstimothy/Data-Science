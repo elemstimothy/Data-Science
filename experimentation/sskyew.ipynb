{
 "cells": [
  {
   "cell_type": "markdown",
   "metadata": {},
   "source": [
    "<h1>Classes</h1></br>\n",
    "<i>Hence the name school</i>"
   ]
  },
  {
   "cell_type": "code",
   "execution_count": 1,
   "metadata": {},
   "outputs": [
    {
     "name": "stdout",
     "output_type": "stream",
     "text": [
      "720\n"
     ]
    }
   ],
   "source": [
    "def main():\n",
    "    class TV():\n",
    "        def __init__(self, screen_size, pixels, color, brand) -> None:\n",
    "            self.screen_size = screen_size\n",
    "            self.pixels = pixels\n",
    "            self.color = color\n",
    "            self.brand = brand\n",
    "\n",
    "    yo = TV(32, 720, 'Black', 'Samsung')\n",
    "    print(yo.pixels)        \n",
    "\n",
    "if __name__ == '__main__':\n",
    "    main()            "
   ]
  },
  {
   "cell_type": "code",
   "execution_count": null,
   "metadata": {},
   "outputs": [],
   "source": [
    "class"
   ]
  }
 ],
 "metadata": {
  "kernelspec": {
   "display_name": "Python 3.10.6 64-bit",
   "language": "python",
   "name": "python3"
  },
  "language_info": {
   "codemirror_mode": {
    "name": "ipython",
    "version": 3
   },
   "file_extension": ".py",
   "mimetype": "text/x-python",
   "name": "python",
   "nbconvert_exporter": "python",
   "pygments_lexer": "ipython3",
   "version": "3.10.6"
  },
  "orig_nbformat": 4,
  "vscode": {
   "interpreter": {
    "hash": "aee8b7b246df8f9039afb4144a1f6fd8d2ca17a180786b69acc140d282b71a49"
   }
  }
 },
 "nbformat": 4,
 "nbformat_minor": 2
}
